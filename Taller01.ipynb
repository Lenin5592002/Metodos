{
 "cells": [
  {
   "cell_type": "markdown",
   "id": "cedeabc1",
   "metadata": {},
   "source": [
    " # **Taller 01** \n",
    " ### Lenin Vasquez\n",
    " ## **Ejercicio 01**\n",
    " ### Hacer la sumatoria de 1 + 1/2 + 1/4 + 1/8 + ..... que tenga un error absoluto menor a 10^-1\n",
    " "
   ]
  },
  {
   "cell_type": "code",
   "execution_count": null,
   "id": "4285fff4",
   "metadata": {},
   "outputs": [
    {
     "name": "stdout",
     "output_type": "stream",
     "text": [
      "Término 1: 1.0, Suma parcial: 1.0\n",
      "Suma: 1.0, Número de términos: 1, Error absoluto: 1.0\n",
      "Término 2: 0.5, Suma parcial: 1.5\n",
      "Suma: 1.5, Número de términos: 2, Error absoluto: 0.5\n",
      "Término 3: 0.25, Suma parcial: 1.75\n",
      "Suma: 1.75, Número de términos: 3, Error absoluto: 0.25\n",
      "Término 4: 0.125, Suma parcial: 1.875\n",
      "Suma: 1.875, Número de términos: 4, Error absoluto: 0.125\n",
      "Término 5: 0.0625, Suma parcial: 1.9375\n",
      "\n",
      "Resultado final:\n",
      "Suma: 1.9375, Número de términos: 5, Error absoluto: 0.0625\n"
     ]
    }
   ],
   "source": [
    "v_real = 2\n",
    "S = 0\n",
    "n = 0\n",
    "\n",
    "while True:\n",
    "    i = 1 / (2 ** n)\n",
    "    S += i\n",
    "    n += 1\n",
    "    print(f\"Término {n}: {i}, Suma parcial: {S}\")\n",
    "\n",
    "    error_abs = abs(v_real - S)\n",
    "    if error_abs < 10**-1:\n",
    "        break\n",
    "    print(f\"Suma: {S}, Número de términos: {n}, Error absoluto: {error_abs}\")\n",
    "\n",
    "print(f\"\\nResultado final:\")\n",
    "print(f\"Suma: {S}, Número de términos: {n}, Error absoluto: {error_abs}\")"
   ]
  },
  {
   "cell_type": "markdown",
   "id": "55ad1d41",
   "metadata": {},
   "source": [
    "## Ejercicio\n",
    "### "
   ]
  }
 ],
 "metadata": {
  "kernelspec": {
   "display_name": "Python 3",
   "language": "python",
   "name": "python3"
  },
  "language_info": {
   "codemirror_mode": {
    "name": "ipython",
    "version": 3
   },
   "file_extension": ".py",
   "mimetype": "text/x-python",
   "name": "python",
   "nbconvert_exporter": "python",
   "pygments_lexer": "ipython3",
   "version": "3.13.7"
  }
 },
 "nbformat": 4,
 "nbformat_minor": 5
}
