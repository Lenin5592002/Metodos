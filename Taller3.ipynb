{
 "cells": [
  {
   "cell_type": "code",
   "execution_count": 7,
   "id": "6c7fc112",
   "metadata": {},
   "outputs": [
    {
     "name": "stdout",
     "output_type": "stream",
     "text": [
      "Raíz aproximada: 2.7692923542386314\n"
     ]
    }
   ],
   "source": [
    "from scipy.optimize import newton\n",
    "\n",
    "# Definimos la función\n",
    "def f(x):\n",
    "    return x**3 - 3*x**2 + x - 1\n",
    "\n",
    "# Definimos la derivada de la función\n",
    "def fprime(x):\n",
    "    return 3*x**2 - 6*x + 1  # 🔹 CORRECCIÓN: antes tenías -6x, debe ser -4x\n",
    "\n",
    "# Aplicamos el método de Newton con punto inicial x0 = 10\n",
    "raiz = newton(f, x0=10, fprime=fprime)\n",
    "\n",
    "print(\"Raíz aproximada:\", raiz)\n"
   ]
  },
  {
   "cell_type": "code",
   "execution_count": 11,
   "id": "2b2558c1",
   "metadata": {},
   "outputs": [
    {
     "name": "stdout",
     "output_type": "stream",
     "text": [
      "   Iteración        x_n        f(x_n)     f'(x_n)  Error absoluto\n",
      "0          1  10.000000  7.090000e+02  241.000000    2.941909e+00\n",
      "1          2   7.058091  2.082186e+02  108.101410    1.926142e+00\n",
      "2          3   5.131950  6.028092e+01   49.219026    1.224748e+00\n",
      "3          4   3.907202  1.675674e+01   23.355462    7.174657e-01\n",
      "4          5   3.189736  4.120187e+00   12.384829    3.326802e-01\n",
      "5          6   2.857056  6.902344e-01    8.345967    8.270275e-02\n",
      "6          7   2.774353  3.753969e-02    7.444985    5.042279e-03\n",
      "7          8   2.769311  1.352083e-04    7.391380    1.829270e-05\n",
      "8          9   2.769292  1.776154e-09    7.391186    2.403069e-10\n",
      "\n",
      "Raíz aproximada ≈ 2.769292\n"
     ]
    }
   ],
   "source": [
    "import numpy as np\n",
    "import pandas as pd\n",
    "\n",
    "# Definimos la función y su derivada\n",
    "def f(x):\n",
    "    return x**3 - 3*x**2 + x - 1\n",
    "\n",
    "def fprime(x):\n",
    "    return 3*x**2 - 6*x + 1\n",
    "\n",
    "# Parámetros iniciales\n",
    "x0 = 10         # valor inicial\n",
    "tol = 1e-6      # tolerancia\n",
    "max_iter = 20   # número máximo de iteraciones\n",
    "\n",
    "# Listas para guardar resultados\n",
    "iteraciones = []\n",
    "valores_x = []\n",
    "valores_fx = []\n",
    "valores_fpx = []\n",
    "errores = []\n",
    "\n",
    "# Método de Newton\n",
    "for i in range(1, max_iter + 1):\n",
    "    fx = f(x0)\n",
    "    fpx = fprime(x0)\n",
    "    \n",
    "    if fpx == 0:\n",
    "        print(\"Error: derivada igual a cero. El método falla.\")\n",
    "        break\n",
    "    \n",
    "    x1 = x0 - fx / fpx\n",
    "    error = abs(x1 - x0)\n",
    "    \n",
    "    # Guardar datos de la iteración\n",
    "    iteraciones.append(i)\n",
    "    valores_x.append(x0)\n",
    "    valores_fx.append(fx)\n",
    "    valores_fpx.append(fpx)\n",
    "    errores.append(error)\n",
    "    \n",
    "    # Verificar tolerancia\n",
    "    if error < tol:\n",
    "        break\n",
    "    \n",
    "    x0 = x1  # actualizar valor\n",
    "\n",
    "# Crear tabla con pandas\n",
    "tabla = pd.DataFrame({\n",
    "    'Iteración': iteraciones,\n",
    "    'x_n': valores_x,\n",
    "    'f(x_n)': valores_fx,\n",
    "    \"f'(x_n)\": valores_fpx,\n",
    "    'Error absoluto': errores\n",
    "})\n",
    "\n",
    "# Mostrar tabla\n",
    "print(tabla)\n",
    "print(f\"\\nRaíz aproximada ≈ {x0:.6f}\")\n"
   ]
  },
  {
   "cell_type": "code",
   "execution_count": null,
   "id": "018dc149",
   "metadata": {},
   "outputs": [
    {
     "data": {
      "image/png": "[encoded data removed]",
      "text/plain": [
       "<Figure size 800x500 with 1 Axes>"
      ]
     },
     "metadata": {},
     "output_type": "display_data"
    },
    {
     "ename": "",
     "evalue": "",
     "output_type": "error",
     "traceback": [
      "\u001b[1;31mThe Kernel crashed while executing code in the current cell or a previous cell. \n",
      "\u001b[1;31mPlease review the code in the cell(s) to identify a possible cause of the failure. \n",
      "\u001b[1;31mClick <a href='https://aka.ms/vscodeJupyterKernelCrash'>here</a> for more info. \n",
      "\u001b[1;31mView Jupyter <a href='command:jupyter.viewOutput'>log</a> for further details."
     ]
    }
   ],
   "source": [
    "import numpy as np\n",
    "import matplotlib.pyplot as plt\n",
    "from scipy.optimize import newton\n",
    "\n",
    "# Definimos la función\n",
    "def f(x):\n",
    "    return x**3 - 3*x**2 + x - 1\n",
    "\n",
    "# Definimos la derivada de la función\n",
    "def fprime(x):\n",
    "    return 3*x**2 - 6*x + 1\n",
    "\n",
    "# Calculamos la raíz con Newton\n",
    "raiz = newton(f, x0=10, fprime=fprime)\n",
    "\n",
    "# Generamos valores de x para graficar\n",
    "x = np.linspace(-2, 4, 400)   # desde -2 hasta 4 con 400 puntos\n",
    "y = f(x)\n",
    "\n",
    "# Graficamos la función\n",
    "plt.figure(figsize=(8,5))\n",
    "plt.plot(x, y, label='f(x) = x³ - 3x² + x - 1', color='blue')\n",
    "\n",
    "# Dibujamos el eje x y y\n",
    "plt.axhline(0, color='black', linewidth=1)\n",
    "plt.axvline(0, color='black', linewidth=1)\n",
    "\n",
    "# Marcamos el punto de la raíz\n",
    "plt.scatter(raiz, f(raiz), color='red', s=80, label=f'Raíz ≈ {raiz:.4f}')\n",
    "\n",
    "# Estilo del gráfico\n",
    "plt.title('Método de Newton - Raíz de la función')\n",
    "plt.xlabel('x')\n",
    "plt.ylabel('f(x)')\n",
    "plt.legend()\n",
    "plt.grid(True)\n",
    "\n",
    "# Mostrar gráfico\n",
    "plt.show()\n"
   ]
  }
 ],
 "metadata": {
  "kernelspec": {
   "display_name": "Python 3",
   "language": "python",
   "name": "python3"
  },
  "language_info": {
   "codemirror_mode": {
    "name": "ipython",
    "version": 3
   },
   "file_extension": ".py",
   "mimetype": "text/x-python",
   "name": "python",
   "nbconvert_exporter": "python",
   "pygments_lexer": "ipython3",
   "version": "3.13.7"
  }
 },
 "nbformat": 4,
 "nbformat_minor": 5
}
